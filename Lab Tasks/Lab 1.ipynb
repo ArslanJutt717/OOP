{
 "cells": [
  {
   "cell_type": "markdown",
   "id": "6a0fcb09-37b2-4a32-8192-1320c39bcb1d",
   "metadata": {},
   "source": [
    "Prime num Checker"
   ]
  },
  {
   "cell_type": "code",
   "execution_count": 37,
   "id": "3b284033-a9d3-4c0b-b463-ce38fa72450e",
   "metadata": {},
   "outputs": [],
   "source": [
    "def is_prime(number):\n",
    "    if number <= 1:\n",
    "        print(False)\n",
    "        for i in range(2, int(number**0.5) + 1):\n",
    "            if number % i == 0:\n",
    "                print(False)\n",
    "    else:\n",
    "        print(True)"
   ]
  },
  {
   "cell_type": "code",
   "execution_count": 46,
   "id": "c7543e24-5550-474d-a12f-2948efe59c62",
   "metadata": {},
   "outputs": [
    {
     "name": "stdout",
     "output_type": "stream",
     "text": [
      "False\n",
      "True\n"
     ]
    }
   ],
   "source": [
    "is_prime(9)"
   ]
  },
  {
   "cell_type": "markdown",
   "id": "22f467d9-31cf-4d7a-bfce-4ae2449616cf",
   "metadata": {},
   "source": [
    "Question 2 :"
   ]
  },
  {
   "cell_type": "code",
   "execution_count": 50,
   "id": "67b112fd-0af6-429a-8ed6-f81e332d39af",
   "metadata": {},
   "outputs": [],
   "source": [
    "def is_prime2(number):\n",
    "    if number <= 1:  \n",
    "        print(False)\n",
    "    else:\n",
    "        for i in range(2, int(number**0.5) + 1):\n",
    "            if number % i == 0:\n",
    "                print(False)\n",
    "        print(True)"
   ]
  },
  {
   "cell_type": "code",
   "execution_count": 51,
   "id": "7349583d-4767-4888-bdd1-e3e407de88ab",
   "metadata": {},
   "outputs": [
    {
     "name": "stdout",
     "output_type": "stream",
     "text": [
      "False\n",
      "True\n"
     ]
    }
   ],
   "source": [
    "is_prime2(9)"
   ]
  },
  {
   "cell_type": "markdown",
   "id": "b55bd5d0-99a4-427a-94b4-62ef69e4576f",
   "metadata": {},
   "source": [
    "Prime Check use loop"
   ]
  },
  {
   "cell_type": "code",
   "execution_count": null,
   "id": "d866feb9-3310-46bf-9fd3-31f006bc3679",
   "metadata": {},
   "outputs": [
    {
     "name": "stdin",
     "output_type": "stream",
     "text": [
      "Enter a number (0 to  ):  43\n"
     ]
    },
    {
     "name": "stdout",
     "output_type": "stream",
     "text": [
      "True\n",
      "43 is not a prime number.\n"
     ]
    }
   ],
   "source": [
    "def is_prime3(number):\n",
    "    if number <= 1:\n",
    "        return False\n",
    "\n",
    "        for divisor in range(2, int(number**0.5) + 1):\n",
    "            if number % divisor == 0:\n",
    "                return False\n",
    "    else:\n",
    "        return True\n",
    "\n",
    "while True:\n",
    "    number = int(input(\"Enter a number (0 to  ): \"))\n",
    "    if number == 0:\n",
    "        break\n",
    "\n",
    "    if is_prime(number):\n",
    "        print(f\"{number} is a prime number.\")\n",
    "    else:\n",
    "        print(f\"{number} is not a prime number.\")"
   ]
  },
  {
   "cell_type": "markdown",
   "id": "221ec64e-9d1d-421d-a7ee-8bd5f42907e3",
   "metadata": {},
   "source": [
    "Prime checker msg:"
   ]
  },
  {
   "cell_type": "code",
   "execution_count": null,
   "id": "6852d5ea-b99c-4eb0-86bb-25df601ecef1",
   "metadata": {},
   "outputs": [],
   "source": [
    "def is_prime3(number):\n",
    "    if number <= 1:\n",
    "        return False\n",
    "\n",
    "        for divisor in range(2, int(number**0.5) + 1):\n",
    "            if number % divisor == 0:\n",
    "                return False\n",
    "    else:\n",
    "        return True\n",
    "\n",
    "while True:\n",
    "    number = int(input(\"Enter a number (0 to  ): \"))\n",
    "    if number == 0:\n",
    "        break\n",
    "\n",
    "    if is_prime(number):\n",
    "        print(f\"{number} is a prime number.\")\n",
    "    else:\n",
    "        print(f\"{number} is not a prime number.\")"
   ]
  }
 ],
 "metadata": {
  "kernelspec": {
   "display_name": "Python 3 (ipykernel)",
   "language": "python",
   "name": "python3"
  },
  "language_info": {
   "codemirror_mode": {
    "name": "ipython",
    "version": 3
   },
   "file_extension": ".py",
   "mimetype": "text/x-python",
   "name": "python",
   "nbconvert_exporter": "python",
   "pygments_lexer": "ipython3",
   "version": "3.11.7"
  }
 },
 "nbformat": 4,
 "nbformat_minor": 5
}
