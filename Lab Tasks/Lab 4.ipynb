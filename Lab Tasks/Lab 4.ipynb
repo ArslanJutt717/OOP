{
 "cells": [
  {
   "cell_type": "markdown",
   "id": "a2fb53a1-2327-44b1-8316-a0a410d52eb1",
   "metadata": {},
   "source": [
    "# Python class callled book:"
   ]
  },
  {
   "cell_type": "code",
   "execution_count": 2,
   "id": "39f22b08-7833-487a-9495-a80233533e11",
   "metadata": {},
   "outputs": [
    {
     "name": "stdout",
     "output_type": "stream",
     "text": [
      "Title: Trust and Inspire, Author: Stephen M.R covey, Publication Year: 1949\n"
     ]
    }
   ],
   "source": [
    "class Book:\n",
    "    def __init__(self, title, author, publication_year):\n",
    "        self.title = title\n",
    "        self.author = author\n",
    "        self.publication_year = publication_year\n",
    "\n",
    "    def __str__(self):\n",
    "        return f\"Title: {self.title}, Author: {self.author}, Publication Year: {self.publication_year}\"\n",
    "\n",
    "book1 = Book(\"Trust and Inspire\", \"Stephen M.R covey\", 1949)\n",
    "print(book1)\n"
   ]
  },
  {
   "cell_type": "code",
   "execution_count": null,
   "id": "4cf55814-aa1b-4281-951e-8160ea72dca6",
   "metadata": {},
   "outputs": [],
   "source": []
  }
 ],
 "metadata": {
  "kernelspec": {
   "display_name": "Python 3 (ipykernel)",
   "language": "python",
   "name": "python3"
  },
  "language_info": {
   "codemirror_mode": {
    "name": "ipython",
    "version": 3
   },
   "file_extension": ".py",
   "mimetype": "text/x-python",
   "name": "python",
   "nbconvert_exporter": "python",
   "pygments_lexer": "ipython3",
   "version": "3.11.7"
  }
 },
 "nbformat": 4,
 "nbformat_minor": 5
}
