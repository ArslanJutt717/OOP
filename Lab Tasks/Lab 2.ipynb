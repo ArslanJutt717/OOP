{
 "cells": [
  {
   "cell_type": "markdown",
   "id": "95a03211-b4ef-4b83-b14e-6050cbb9d2d6",
   "metadata": {},
   "source": [
    "# Difference between a class and an object:\n",
    "\n",
    "# Class:\n",
    "\n",
    "A class is a blueprint or a template for creating objects.\n",
    "It defines the properties (attributes) and behaviors (methods) that the objects created from the class will have.\n",
    "A class itself doesn't hold any data, but it provides structure for future instances (objects).\n",
    "\n",
    "# Object:\n",
    "\n",
    "An object is an instance of a class. Once a class is defined, you can create individual objects that inherit the properties and behaviors defined by the class.\n",
    "Each object has its own unique data stored in the form of attributes, but all objects created from the same class will share the same methods."
   ]
  },
  {
   "cell_type": "code",
   "execution_count": 2,
   "id": "8f4a3537-1085-47c4-b6a7-7f1bad125ec7",
   "metadata": {},
   "outputs": [
    {
     "name": "stdout",
     "output_type": "stream",
     "text": [
      "This car is a Bughatti 1990.\n"
     ]
    }
   ],
   "source": [
    "# Create Class :\n",
    "class Car:\n",
    "    def __init__(self, make, model):\n",
    "        self.make = make\n",
    "        self.model = model\n",
    "\n",
    "    def description(self):\n",
    "        return f\"This car is a {self.make} {self.model}.\"\n",
    "\n",
    "# Create an object :\n",
    "car1 = Car(\"Bughatti\", \"1990\")\n",
    "\n",
    "print(car1.description()) \n"
   ]
  },
  {
   "cell_type": "markdown",
   "id": "a4066f07-4c99-4dca-a341-2e42b236d227",
   "metadata": {},
   "source": [
    "# Difference between __init__() and __str__() in Python:\n",
    "\n",
    "# __init__():\n",
    "\n",
    "This is the constructor method in Python. It is automatically called when an object of a class is created.\n",
    "It is used to initialize the object's attributes with specific values.\n",
    "It does not return anything (None by default).\n",
    "# __str__():\n",
    "\n",
    "This method is used to define how the object should be represented as a string.\n",
    "It is automatically called when the print() function or str() is used on an object. The method should return a string representing the object.\n",
    "Unlike __init__(), this method returns a string and is not involved in initializing attributes."
   ]
  },
  {
   "cell_type": "code",
   "execution_count": 3,
   "id": "aa746649-5131-4177-a462-6507b83a9429",
   "metadata": {},
   "outputs": [
    {
     "name": "stdout",
     "output_type": "stream",
     "text": [
      "'1984' by George Orwell\n"
     ]
    }
   ],
   "source": [
    "# Define or create a class:\n",
    "class Book:\n",
    "    def __init__(self, title, author):\n",
    "        self.title = title\n",
    "        self.author = author\n",
    "    \n",
    "    def __str__(self):\n",
    "        return f\"'{self.title}' by {self.author}\"\n",
    "\n",
    "# Create an object :\n",
    "book1 = Book(\"1984\", \"George Orwell\")\n",
    "\n",
    "print(book1) \n"
   ]
  },
  {
   "cell_type": "code",
   "execution_count": null,
   "id": "b1f02122-763f-4dba-b300-3a55e985b410",
   "metadata": {},
   "outputs": [],
   "source": []
  }
 ],
 "metadata": {
  "kernelspec": {
   "display_name": "Python 3 (ipykernel)",
   "language": "python",
   "name": "python3"
  },
  "language_info": {
   "codemirror_mode": {
    "name": "ipython",
    "version": 3
   },
   "file_extension": ".py",
   "mimetype": "text/x-python",
   "name": "python",
   "nbconvert_exporter": "python",
   "pygments_lexer": "ipython3",
   "version": "3.11.7"
  }
 },
 "nbformat": 4,
 "nbformat_minor": 5
}
