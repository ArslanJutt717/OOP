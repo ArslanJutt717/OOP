{
 "cells": [
  {
   "cell_type": "markdown",
   "id": "e87ce760-5686-4a1f-9e31-0aad0fca8b5e",
   "metadata": {},
   "source": [
    "# Registration System"
   ]
  },
  {
   "cell_type": "code",
   "execution_count": 14,
   "id": "11b03cd6-d0e0-40f0-a29d-962df4214e7c",
   "metadata": {},
   "outputs": [],
   "source": [
    "class course:\n",
    "    def __init__(self, course_code, course_name):\n",
    "        self.course_code= course_code\n",
    "        self.course_name= course_name\n",
    "\n",
    "    def display_info(self):\n",
    "        print(f\"Course Code: {self.course_code}\")\n",
    "        print(f\"Course Name: {self.course_name}\")\n",
    "\n",
    "\n",
    "class undergraduateCourse(course):\n",
    "    def __init__(self, course_code, course_name, year_level):\n",
    "        super().__init__(course_code,course_name)\n",
    "        self.year_level = year_level\n",
    "\n",
    "    \n",
    "    def additional_info(self):\n",
    "        print(f\"Year level: {self.year_level}\")\n",
    "\n",
    "\n",
    "\n",
    "class graduateCourse(course):\n",
    "    def __init__(self, course_code, course_name, research_area):\n",
    "        super().__init__(course_code,course_name)\n",
    "        self.research_area = research_area\n",
    "\n",
    "    \n",
    "    def additional_info(self):\n",
    "        print(f\"Research Area: {self.research_area}\")\n",
    "        \n",
    "    \n",
    "\n"
   ]
  },
  {
   "cell_type": "code",
   "execution_count": 15,
   "id": "e25f1867-bb8a-4f41-9159-ee5b6daa58ad",
   "metadata": {},
   "outputs": [],
   "source": [
    "def register_course():\n",
    "    course_type = input(\"Is this an undergraduate or graduate course?\")\n",
    "    if course_type == \"undergraduate\":\n",
    "        course_code = input(\"Enter the course code: \")\n",
    "        course_name = input(\"Enter the course name: \")\n",
    "        year_level = input(\"Enter the year level (e.g., 1, 2, 3, or 4): \")\n",
    "        course = undergraduateCourse(course_code, course_name, year_level)\n",
    "    elif course_type == \"graduate\":\n",
    "        course_code = input(\"Enter the course code: \")\n",
    "        course_name = input(\"Enter the course name: \")\n",
    "        research_area = input(\"Enter the research area: \")\n",
    "        course = GraduateCourse(course_code, course_name, research_area)\n",
    "    else:\n",
    "        print(\"Invalid course type entered. Please enter either 'undergraduate' or 'graduate'.\")\n",
    "    print(\"\\nCourse Registration Details:\")\n",
    "    course.display_info()\n",
    "    course.additional_info()\n",
    "                        "
   ]
  },
  {
   "cell_type": "code",
   "execution_count": 16,
   "id": "dedabd4f-fa8a-4504-bbd7-765a2130a378",
   "metadata": {},
   "outputs": [
    {
     "name": "stdin",
     "output_type": "stream",
     "text": [
      "Is this an undergraduate or graduate course? undergraduate\n",
      "Enter the course code:  Bachelor\n",
      "Enter the course name:  AI\n",
      "Enter the year level (e.g., 1, 2, 3, or 4):  2012\n"
     ]
    },
    {
     "name": "stdout",
     "output_type": "stream",
     "text": [
      "\n",
      "Course Registration Details:\n",
      "Course Code: Bachelor\n",
      "Course Name: AI\n",
      "Year level: 2012\n"
     ]
    }
   ],
   "source": [
    "register_course()"
   ]
  },
  {
   "cell_type": "code",
   "execution_count": null,
   "id": "69a15948-1acb-400a-a7da-1a98556fef67",
   "metadata": {},
   "outputs": [],
   "source": []
  }
 ],
 "metadata": {
  "kernelspec": {
   "display_name": "Python 3 (ipykernel)",
   "language": "python",
   "name": "python3"
  },
  "language_info": {
   "codemirror_mode": {
    "name": "ipython",
    "version": 3
   },
   "file_extension": ".py",
   "mimetype": "text/x-python",
   "name": "python",
   "nbconvert_exporter": "python",
   "pygments_lexer": "ipython3",
   "version": "3.11.7"
  }
 },
 "nbformat": 4,
 "nbformat_minor": 5
}
