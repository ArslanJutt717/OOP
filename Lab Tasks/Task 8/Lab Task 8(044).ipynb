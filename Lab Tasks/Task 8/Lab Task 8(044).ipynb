{
 "cells": [
  {
   "cell_type": "code",
   "execution_count": 2,
   "id": "f24b05f8-ef49-4d08-8d3a-17e0706d5b14",
   "metadata": {},
   "outputs": [
    {
     "name": "stdout",
     "output_type": "stream",
     "text": [
      "\n",
      "1. Add New Employee\n",
      "2. Display Employees\n",
      "3. Save and Exit\n"
     ]
    },
    {
     "name": "stdin",
     "output_type": "stream",
     "text": [
      "Enter your choice:  2\n"
     ]
    },
    {
     "name": "stdout",
     "output_type": "stream",
     "text": [
      "Name:  Ali \n",
      "Age:  21\n",
      "Employee_id:  2021\n",
      "Position:  manager\n",
      "Department: se\n",
      "--------------------\n",
      "\n",
      "1. Add New Employee\n",
      "2. Display Employees\n",
      "3. Save and Exit\n"
     ]
    },
    {
     "name": "stdin",
     "output_type": "stream",
     "text": [
      "Enter your choice:  1\n",
      "Enter name:  Ahmed\n",
      "Enter age:  23\n",
      "Enter employee ID:  1014\n",
      "Enter position:  worker\n",
      "Enter department:  ai\n"
     ]
    },
    {
     "name": "stdout",
     "output_type": "stream",
     "text": [
      "New employee added successfully!\n",
      "\n",
      "1. Add New Employee\n",
      "2. Display Employees\n",
      "3. Save and Exit\n"
     ]
    },
    {
     "name": "stdin",
     "output_type": "stream",
     "text": [
      "Enter your choice:  2\n"
     ]
    },
    {
     "name": "stdout",
     "output_type": "stream",
     "text": [
      "Name:  Ali \n",
      "Age:  21\n",
      "Employee_id:  2021\n",
      "Position:  manager\n",
      "Department: se\n",
      "--------------------\n",
      "Name:  Ahmed\n",
      "Age:  23\n",
      "Employee_id:  1014\n",
      "Position:  worker\n",
      "Department: ai\n",
      "--------------------\n",
      "\n",
      "1. Add New Employee\n",
      "2. Display Employees\n",
      "3. Save and Exit\n"
     ]
    },
    {
     "name": "stdin",
     "output_type": "stream",
     "text": [
      "Enter your choice:  3\n"
     ]
    },
    {
     "name": "stdout",
     "output_type": "stream",
     "text": [
      "Data saved to Staff.csv successfully!\n",
      "Employees saved successfully. Exiting...\n"
     ]
    }
   ],
   "source": [
    "import csv\n",
    "\n",
    "class Person:\n",
    "    def __init__ (self, name, age):\n",
    "        self.name = name\n",
    "        self.age = age\n",
    "\n",
    "    def display_info(self):\n",
    "        print(\"Name: \",self.name)\n",
    "        print(\"Age: \",self.age)\n",
    "\n",
    "class Employee:\n",
    "    def __init__ (self, employee_id, position ):\n",
    "        self.employee_id = employee_id\n",
    "        self.position = position\n",
    "\n",
    "    def display_info(self):\n",
    "        print(\"Employee_id: \",self.employee_id)\n",
    "        print(\"Position: \",self.position)\n",
    "\n",
    "\n",
    "class Staff(Person,Employee):\n",
    "    def __init__(self, name, age, employee_id, position, department):\n",
    "        Person.__init__(self, name, age)\n",
    "        Employee.__init__(self, employee_id, position)\n",
    "        self.department = department\n",
    "    \n",
    "    def display_info(self):\n",
    "        Person.display_info(self)\n",
    "        Employee.display_info(self) \n",
    "        print(\"Department:\",self.department)\n",
    "\n",
    "class FileHandler:\n",
    "    @staticmethod\n",
    "    def save_employees_to_file(employees, filename):\n",
    "        with open(filename, mode='w', newline='') as file:\n",
    "            writer = csv.writer(file)\n",
    "            writer.writerow([\"Name\", \"Age\", \"Employee ID\", \"Position\", \"Department\"])\n",
    "            for employee in employees:\n",
    "                writer.writerow([employee.name, employee.age, employee.employee_id, employee.position, employee.department])\n",
    "        print(f\"Data saved to {filename} successfully!\")\n",
    "\n",
    "    @staticmethod\n",
    "    def load_employees_from_file(filename):\n",
    "        employees = []\n",
    "        try:\n",
    "            with open(filename, mode='r') as file:\n",
    "                reader = csv.DictReader(file)\n",
    "                for row in reader:\n",
    "                    name = row[\"Name\"]\n",
    "                    age = int(row[\"Age\"])\n",
    "                    employee_id = row[\"Employee ID\"]\n",
    "                    position = row[\"Position\"]\n",
    "                    department = row[\"Department\"]\n",
    "                    employees.append(Staff(name, age, employee_id, position, department))\n",
    "        except FileNotFoundError:\n",
    "            print(f\"File '{filename}' not found. Starting with an empty list.\")\n",
    "        return employees\n",
    "\n",
    "    @staticmethod\n",
    "    def add_employee(employees):\n",
    "        name = input(\"Enter name: \")\n",
    "        try:\n",
    "            age = int(input(\"Enter age: \"))\n",
    "        except ValueError:\n",
    "            print(\"Invalid age entered. Please enter a valid number.\")\n",
    "            return\n",
    "        \n",
    "        employee_id = input(\"Enter employee ID: \")\n",
    "        position = input(\"Enter position: \")\n",
    "        department = input(\"Enter department: \")\n",
    "        employees.append(Staff(name, age, employee_id, position, department))\n",
    "        print(\"New employee added successfully!\")\n",
    "\n",
    "    @staticmethod\n",
    "    def display_info(employees):\n",
    "        if not employees:\n",
    "            print(\"No employees to display.\")\n",
    "            return\n",
    "        for employee in employees:\n",
    "            employee.display_info()\n",
    "            print('-' * 20)\n",
    "\n",
    "# Main function to interact with the user\n",
    "def main():\n",
    "    filename = \"Staff.csv\"\n",
    "    employees = FileHandler.load_employees_from_file(filename)\n",
    "\n",
    "    while True:\n",
    "        print(\"\\n1. Add New Employee\")\n",
    "        print(\"2. Display Employees\")\n",
    "        print(\"3. Save and Exit\")\n",
    "        try:\n",
    "            choice = int(input(\"Enter your choice: \"))\n",
    "        except ValueError:\n",
    "            print(\"Invalid choice. Please enter a number between 1 and 3.\")\n",
    "            continue\n",
    "\n",
    "        if choice == 1:\n",
    "            FileHandler.add_employee(employees)\n",
    "        elif choice == 2:\n",
    "            FileHandler.display_info(employees)\n",
    "        elif choice == 3:\n",
    "            FileHandler.save_employees_to_file(employees, filename)\n",
    "            print(\"Employees saved successfully. Exiting...\")\n",
    "            break\n",
    "        else:\n",
    "            print(\"Invalid choice. Please choose a valid option.\")\n",
    "\n",
    "if __name__ == '__main__':\n",
    "    main()\n",
    "\n",
    "\n",
    "      "
   ]
  },
  {
   "cell_type": "code",
   "execution_count": null,
   "id": "f9a119ed-ce0a-4178-964d-b1116307dee7",
   "metadata": {},
   "outputs": [],
   "source": []
  }
 ],
 "metadata": {
  "kernelspec": {
   "display_name": "Python 3 (ipykernel)",
   "language": "python",
   "name": "python3"
  },
  "language_info": {
   "codemirror_mode": {
    "name": "ipython",
    "version": 3
   },
   "file_extension": ".py",
   "mimetype": "text/x-python",
   "name": "python",
   "nbconvert_exporter": "python",
   "pygments_lexer": "ipython3",
   "version": "3.11.7"
  }
 },
 "nbformat": 4,
 "nbformat_minor": 5
}
