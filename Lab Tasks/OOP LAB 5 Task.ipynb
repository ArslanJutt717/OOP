{
 "cells": [
  {
   "cell_type": "code",
   "execution_count": 13,
   "id": "7a8d1765-0621-4b46-a1b6-abbd8b64bdd8",
   "metadata": {},
   "outputs": [
    {
     "name": "stdout",
     "output_type": "stream",
     "text": [
      "Title: Peer e kamil, Author: Umera Ahmed\n",
      "Pages of Book: 2500\n",
      "Title: Trust and Inspire, Author: Stephen Coley\n",
      "Issue number: 2012\n"
     ]
    }
   ],
   "source": [
    "class item:\n",
    "    def __init__(self,title,author):\n",
    "        self.title= title\n",
    "        self.author= author\n",
    "\n",
    "    def display_info(self):\n",
    "        print(f\"Title: {self.title}, Author: {self.author}\")\n",
    "\n",
    "\n",
    "class book(item):\n",
    "    def __init__(self, title, author, pages):\n",
    "        super().__init__(title,author)\n",
    "        self.pages = pages\n",
    "    def additional_info(self):\n",
    "        print(f\"Pages of Book: {self.pages}\")\n",
    "\n",
    "\n",
    "\n",
    "class magazines(item):\n",
    "    def __init__(self, title, author, issue_number):\n",
    "        super().__init__(title,author)\n",
    "        self.issue_number = issue_number\n",
    "    def additional_info(self):\n",
    "        print(f\"Issue number: {self.issue_number}\")\n",
    "\n",
    "Book = book(\"Peer e kamil\", \"Umera Ahmed\", 2500)\n",
    "Magazine = magazines(\"Trust and Inspire\", \"Stephen Coley\", 2012)\n",
    "Book.display_info()\n",
    "Book.additional_info()\n",
    "Magazine.display_info()\n",
    "Magazine.additional_info()"
   ]
  },
  {
   "cell_type": "code",
   "execution_count": null,
   "id": "167e0422-275b-4a80-8781-dd8ddf2c2611",
   "metadata": {},
   "outputs": [],
   "source": []
  }
 ],
 "metadata": {
  "kernelspec": {
   "display_name": "Python 3 (ipykernel)",
   "language": "python",
   "name": "python3"
  },
  "language_info": {
   "codemirror_mode": {
    "name": "ipython",
    "version": 3
   },
   "file_extension": ".py",
   "mimetype": "text/x-python",
   "name": "python",
   "nbconvert_exporter": "python",
   "pygments_lexer": "ipython3",
   "version": "3.11.7"
  }
 },
 "nbformat": 4,
 "nbformat_minor": 5
}
