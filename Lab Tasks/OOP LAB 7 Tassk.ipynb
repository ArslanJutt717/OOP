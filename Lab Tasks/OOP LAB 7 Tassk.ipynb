{
 "cells": [
  {
   "cell_type": "markdown",
   "id": "af207505-8570-4a1f-bd17-d70d6039ad00",
   "metadata": {},
   "source": [
    "# Task Part 1"
   ]
  },
  {
   "cell_type": "code",
   "execution_count": 29,
   "id": "41c34aca-aeb6-4c48-b4aa-7c8f58a8af6e",
   "metadata": {},
   "outputs": [
    {
     "name": "stdout",
     "output_type": "stream",
     "text": [
      "Make: Lamborghini\n",
      "Model: 1993\n",
      "Number of Doors: 4\n",
      "Features: Auto Mobile AI Intelligence\n"
     ]
    }
   ],
   "source": [
    "class Vehicle:\n",
    "    def __init__(self, make, model):\n",
    "        self.make = make\n",
    "        self.model = model\n",
    "\n",
    "    def display_info(self):\n",
    "        print(f\"Make: {self.make}\")\n",
    "        print(f\"Model: {self.model}\")\n",
    "\n",
    "class Car(Vehicle):\n",
    "    def __init__(self, make, model, num_doors):\n",
    "        super().__init__(make, model)\n",
    "        self.num_doors = num_doors\n",
    "\n",
    "    def additional_info(self):\n",
    "        print(f\"Number of Doors: {self.num_doors}\")\n",
    "\n",
    "class LuxuryCar(Car):\n",
    "    def __init__(self, make, model, num_doors, features):\n",
    "        super().__init__(make, model, num_doors)\n",
    "        self.features = features\n",
    "\n",
    "    def additional_info(self):\n",
    "        super().additional_info()\n",
    "        print(f\"Features: {self.features}\")\n",
    "\n",
    "my_luxury_car = LuxuryCar(\"Lamborghini\", 1993, 4, \"Auto Mobile AI Intelligence\")\n",
    "\n",
    "my_luxury_car.display_info()\n",
    "my_luxury_car.additional_info()\n"
   ]
  },
  {
   "cell_type": "markdown",
   "id": "bd4a8dd1-b15f-43f1-9dac-2b1ab06694f7",
   "metadata": {},
   "source": [
    "# Task Part 2"
   ]
  },
  {
   "cell_type": "code",
   "execution_count": 35,
   "id": "ca3015fa-23bc-4a9c-b742-bb81ce32a279",
   "metadata": {},
   "outputs": [],
   "source": [
    "class Employee:\n",
    "    def __init__(self, name, position):\n",
    "        self.name = name\n",
    "        self.position = position\n",
    "\n",
    "    def display_info(self):\n",
    "        print(f\"Name: {self.name}\")\n",
    "        print(f\"Position: {self.position}\")\n",
    "\n",
    "class Manager(Employee):\n",
    "    def __init__ (self, name, position, department):\n",
    "        super().__init__(name, position)\n",
    "        self.department = department\n",
    "    \n",
    "    def additional_info(self):\n",
    "        print(f\"Department of Work: {self.department}\")\n",
    "\n",
    "class Worker(Employee):\n",
    "    def __init__(self,name,position,hours_worked):\n",
    "        super().__init__(name, position)\n",
    "        self.hours_worked = hours_worked\n",
    "\n",
    "    def additional_info(self):\n",
    "        print(f\"Hours Worked by Worker: {self.hours_worked}\")\n"
   ]
  },
  {
   "cell_type": "code",
   "execution_count": 37,
   "id": "54d715ee-80ab-4fee-9b73-45afb4b914e7",
   "metadata": {},
   "outputs": [
    {
     "name": "stdout",
     "output_type": "stream",
     "text": [
      "Manager Information:\n",
      "Name: Ali Ansari\n",
      "Position: Manager\n",
      "Department of Work: Sales Department\n",
      "\n",
      "Worker Information:\n",
      "Name: Ahmed Ali\n",
      "Position: Worker\n",
      "Hours Worked by Worker: 45\n"
     ]
    }
   ],
   "source": [
    "manager = Manager(\"Ali Ansari\", \"Manager\", \"Sales Department\")\n",
    "worker = Worker(\"Ahmed Ali\", \"Worker\" , 45)\n",
    "\n",
    "\n",
    "print(\"Manager Information:\")\n",
    "manager.display_info()\n",
    "manager.additional_info()\n",
    "\n",
    "print(\"\\nWorker Information:\")\n",
    "\n",
    "worker.display_info()\n",
    "worker.additional_info()"
   ]
  },
  {
   "cell_type": "code",
   "execution_count": null,
   "id": "e3e9663a-bf27-4ec9-b175-d80b9822a02a",
   "metadata": {},
   "outputs": [],
   "source": []
  }
 ],
 "metadata": {
  "kernelspec": {
   "display_name": "Python 3 (ipykernel)",
   "language": "python",
   "name": "python3"
  },
  "language_info": {
   "codemirror_mode": {
    "name": "ipython",
    "version": 3
   },
   "file_extension": ".py",
   "mimetype": "text/x-python",
   "name": "python",
   "nbconvert_exporter": "python",
   "pygments_lexer": "ipython3",
   "version": "3.11.7"
  }
 },
 "nbformat": 4,
 "nbformat_minor": 5
}
