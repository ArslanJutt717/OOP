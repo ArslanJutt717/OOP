{
 "cells": [
  {
   "cell_type": "markdown",
   "id": "9ceedbdf-3e20-462b-b9d1-d50c0132fa06",
   "metadata": {},
   "source": [
    "# Rectangle class :"
   ]
  },
  {
   "cell_type": "code",
   "execution_count": 1,
   "id": "28c528e6-bf8c-42c1-8048-0527211e1bb3",
   "metadata": {},
   "outputs": [
    {
     "name": "stdin",
     "output_type": "stream",
     "text": [
      "Enter the width of the rectangle:  3\n",
      "Enter the height of the rectangle:  6\n"
     ]
    },
    {
     "name": "stdout",
     "output_type": "stream",
     "text": [
      "Rectangle: 3.0 x 6.0\n",
      "Area of the rectangle: 18.0\n",
      "Perimeter of the rectangle: 18.0\n"
     ]
    }
   ],
   "source": [
    "class Rectangle:\n",
    "    def __init__(self, width, height):\n",
    "        self.width = width\n",
    "        self.height = height\n",
    "\n",
    "    def __str__(self):\n",
    "        return f\"Rectangle: {self.width} x {self.height}\"\n",
    "\n",
    "    def area(self):\n",
    "        return self.width * self.height\n",
    "\n",
    "    def perimeter(self):\n",
    "        return 2 * (self.width + self.height)\n",
    "\n",
    "width = float(input(\"Enter the width of the rectangle: \"))\n",
    "height = float(input(\"Enter the height of the rectangle: \"))\n",
    "# i create an object :\n",
    "rectangle = Rectangle(width, height)\n",
    "\n",
    "print(rectangle)\n",
    "# Area :\n",
    "print(f\"Area of the rectangle: {rectangle.area()}\")\n",
    "\n",
    "# Perimeter:\n",
    "print(f\"Perimeter of the rectangle: {rectangle.perimeter()}\")\n"
   ]
  },
  {
   "cell_type": "code",
   "execution_count": null,
   "id": "e5d3d3e2-c569-48b0-a648-378b5e093288",
   "metadata": {},
   "outputs": [],
   "source": []
  }
 ],
 "metadata": {
  "kernelspec": {
   "display_name": "Python 3 (ipykernel)",
   "language": "python",
   "name": "python3"
  },
  "language_info": {
   "codemirror_mode": {
    "name": "ipython",
    "version": 3
   },
   "file_extension": ".py",
   "mimetype": "text/x-python",
   "name": "python",
   "nbconvert_exporter": "python",
   "pygments_lexer": "ipython3",
   "version": "3.11.7"
  }
 },
 "nbformat": 4,
 "nbformat_minor": 5
}
